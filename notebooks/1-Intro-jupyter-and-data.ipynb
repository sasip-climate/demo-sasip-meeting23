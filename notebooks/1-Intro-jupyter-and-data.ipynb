{
 "cells": [
  {
   "cell_type": "markdown",
   "id": "6969a3e1-d9f3-4973-b6a5-5568e156e244",
   "metadata": {},
   "source": [
    "# Introduction to jupyter notebooks and how to access SASIP data\n",
    "\n"
   ]
  },
  {
   "cell_type": "markdown",
   "id": "1f791a93-59e2-43c7-ba47-0ac05b613768",
   "metadata": {},
   "source": [
    "---\n",
    "## 1. (Very) quick intro to jupyter notebooks\n",
    "\n",
    "* For detailed documentation, see here: https://jupyter-notebook.readthedocs.io/en/stable/.\n",
    "\n",
    "* In short, in a jupyter notebook, each \"cell\" like this one  is either for python code (or bash command) or just for text (in markdown).\n",
    "\n",
    "* An example of a code cell is given below. You can run by clicking on the \"play\" triangle above, or do __SHIFT+ENTER__ after selecting the cell to run:"
   ]
  },
  {
   "cell_type": "code",
   "execution_count": 1,
   "id": "3afcf4a0-30e7-46ea-be76-bd4c3b6c82c6",
   "metadata": {},
   "outputs": [
    {
     "name": "stdout",
     "output_type": "stream",
     "text": [
      "9\n"
     ]
    }
   ],
   "source": [
    "# this is python code:\n",
    "\n",
    "a = 4\n",
    "b = 5\n",
    "c = a+b\n",
    "print(c)"
   ]
  },
  {
   "cell_type": "markdown",
   "id": "3d8728b5-0609-4e8f-9a0a-11b232f5e0f3",
   "metadata": {},
   "source": [
    "* you can import python packages this way:"
   ]
  },
  {
   "cell_type": "code",
   "execution_count": 2,
   "id": "5c7d6211-bef1-4d83-948d-5ea9afbeb356",
   "metadata": {},
   "outputs": [],
   "source": [
    "## standart libraries\n",
    "import os,sys\n",
    "import numpy as np\n",
    "\n",
    "# xarray\n",
    "import xarray as xr\n",
    "\n",
    "# plot\n",
    "import matplotlib.pyplot as plt\n",
    "from matplotlib import animation\n",
    "from IPython.display import HTML\n",
    "\n",
    "#JUPYTER notebook magics\n",
    "%matplotlib inline "
   ]
  },
  {
   "cell_type": "markdown",
   "id": "89d9f488-6ff5-4466-8093-e34fa1af3d6d",
   "metadata": {},
   "source": [
    "---\n",
    "## 2. How to access SASIP data ?\n",
    "\n",
    "Easy ! It has been mounted to be accessed in this cloud session. Just have a look in:  `/data/`:"
   ]
  },
  {
   "cell_type": "code",
   "execution_count": 3,
   "id": "4744ce98-3bf5-4e30-a6e7-c014f4ddadea",
   "metadata": {},
   "outputs": [
    {
     "name": "stdout",
     "output_type": "stream",
     "text": [
      "ls: /data/: No such file or directory\n"
     ]
    }
   ],
   "source": [
    "ls /data/"
   ]
  },
  {
   "cell_type": "markdown",
   "id": "47875985-3dd7-4e6f-954a-4e25819d5a90",
   "metadata": {},
   "source": [
    "* You can navigate through the data (also documented in the SASIP catalog (https://github.com/sasip-climate/catalog-shared-data-SASIP/blob/main/catalog-details.md).\n",
    "\n",
    "For example, lets have a look at : `/data/model-outputs/neXtSIM-standalone/` (some model outputs produced with the Lagrangian version of the sea ice model NeXtSIM:"
   ]
  },
  {
   "cell_type": "code",
   "execution_count": 5,
   "id": "4df1a19a-bd32-4b4d-944e-2b7e9e2a844c",
   "metadata": {},
   "outputs": [
    {
     "name": "stdout",
     "output_type": "stream",
     "text": [
      "ls: /data/model-outputs/neXtSIM-standalone/: No such file or directory\n"
     ]
    }
   ],
   "source": [
    "ls /data/model-outputs/neXtSIM-standalone/"
   ]
  },
  {
   "cell_type": "markdown",
   "id": "7bcb0036-c030-47d8-a551-8998fa834cd8",
   "metadata": {},
   "source": [
    "* Now let's load one of those files (let's load the sea ice \"damage\" for example):"
   ]
  },
  {
   "cell_type": "code",
   "execution_count": null,
   "id": "fcb94aa1-6573-4b23-bfda-04e2f08a34dd",
   "metadata": {},
   "outputs": [],
   "source": [
    "diridat = \"/data/model-outputs/neXtSIM-standalone/\"\n",
    "fili    = \"Moorings_2006d062.nc\"\n",
    "\n",
    "dam = xr.open_dataset(diridat+fili)\n",
    "dam"
   ]
  },
  {
   "cell_type": "markdown",
   "id": "d6280cb2-5c90-4961-8728-24f775da7062",
   "metadata": {},
   "source": [
    "* Plot it"
   ]
  },
  {
   "cell_type": "code",
   "execution_count": null,
   "id": "c28f5d04-ac4e-4fb7-b4f2-07c48593f04d",
   "metadata": {},
   "outputs": [],
   "source": [
    "fig,(ax) = plt.subplots(1, 1, figsize=[10, 8],facecolor='w')\n",
    "it=0\n",
    "p = ax.pcolormesh(dam[\"damage\"].isel(time=0),cmap='bone')\n",
    "plt.colorbar(p,label='damage')\n",
    "plt.show"
   ]
  }
 ],
 "metadata": {
  "kernelspec": {
   "display_name": "Python 3 (ipykernel)",
   "language": "python",
   "name": "python3"
  },
  "language_info": {
   "codemirror_mode": {
    "name": "ipython",
    "version": 3
   },
   "file_extension": ".py",
   "mimetype": "text/x-python",
   "name": "python",
   "nbconvert_exporter": "python",
   "pygments_lexer": "ipython3",
   "version": "3.11.3"
  }
 },
 "nbformat": 4,
 "nbformat_minor": 5
}
