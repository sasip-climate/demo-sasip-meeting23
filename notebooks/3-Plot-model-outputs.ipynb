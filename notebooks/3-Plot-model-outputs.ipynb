{
 "cells": [
  {
   "cell_type": "markdown",
   "id": "3f9ac9fe-c048-47af-82ff-82b7f895d7e2",
   "metadata": {},
   "source": [
    "## 3. Let's have a look at the NeXtSIM-DG outputs: \n",
    "\n",
    "In this notebook you will: \n",
    "* 3.1 Load python libraries,\n",
    "* 3.2 Load the land/sea mask and initial conditions,\n",
    "* 3.3 Plot land/sea mask and SST initial conditions,\n",
    "* 3.4 Load and plot the  model outputs files."
   ]
  },
  {
   "cell_type": "markdown",
   "id": "8abbf9e3-78b9-406d-81bc-8c9d68417212",
   "metadata": {},
   "source": [
    "---\n",
    "## 3.1 Load python libraries"
   ]
  },
  {
   "cell_type": "code",
   "execution_count": null,
   "id": "8b864cbe-effe-4c9f-94ba-550c62f521ed",
   "metadata": {
    "tags": []
   },
   "outputs": [],
   "source": [
    "## standart libraries\n",
    "import os,sys\n",
    "import numpy as np\n",
    "\n",
    "# xarray\n",
    "import xarray as xr\n",
    "\n",
    "# plot\n",
    "import matplotlib.pyplot as plt\n",
    "import matplotlib.cm as cm\n",
    "import matplotlib.colors as mcolors\n",
    "from mpl_toolkits.axes_grid1.inset_locator import inset_axes\n",
    "\n",
    "from matplotlib import animation\n",
    "from IPython.display import HTML\n",
    "\n",
    "import datetime, time\n",
    "\n",
    "#JUPYTER notebook magics\n",
    "%matplotlib inline \n",
    "\n",
    "# ---------------------\n",
    "# Some functions\n",
    "def printdate(unixt=0):\n",
    "    \"\"\" Print string date from unix time \"\"\"\n",
    "    #unixt = float(outputs.time[3].values)\n",
    "    dt = datetime.datetime.fromtimestamp(unixt)\n",
    "    printdate = str(dt.year)+\"-\"+str(dt.month).zfill(2)+\"-\"+str(dt.day).zfill(2)+\":\"+str(dt.hour).zfill(2)+\":00\"\n",
    "    return printdate"
   ]
  },
  {
   "cell_type": "markdown",
   "id": "3d277f46-5a08-4ece-9bda-0efacbbbb9dd",
   "metadata": {},
   "source": [
    "---\n",
    "## 3.2. Load the land/sea mask and initial conditions\n",
    "from file : `init_25km_NH.nc`."
   ]
  },
  {
   "cell_type": "markdown",
   "id": "818cae0b-6e62-4f58-aa73-7d1bc35b61c1",
   "metadata": {},
   "source": [
    "* Path where the model  files are:"
   ]
  },
  {
   "cell_type": "code",
   "execution_count": null,
   "id": "33c1e7ec-be28-42b8-b6d2-b46d81a2b656",
   "metadata": {
    "tags": []
   },
   "outputs": [],
   "source": [
    "dirwo = \"/home/jovyan/work/\""
   ]
  },
  {
   "cell_type": "markdown",
   "id": "88dda646-eef4-46ec-90be-ac2a94aab5a7",
   "metadata": {},
   "source": [
    "* read the initial data:"
   ]
  },
  {
   "cell_type": "code",
   "execution_count": null,
   "id": "3d542538-82ea-4b55-8b0b-2cfdacded264",
   "metadata": {
    "tags": []
   },
   "outputs": [],
   "source": [
    "datinit= xr.open_dataset(dirwo+'/init_25km_NH.nc',group='data')\n",
    "datinit"
   ]
  },
  {
   "cell_type": "markdown",
   "id": "8b678f32-7fcc-4df6-8ee4-fab90d897417",
   "metadata": {},
   "source": [
    "_Note:_ that the \"group\" option is necessary to read the files (netcdf4 format)."
   ]
  },
  {
   "cell_type": "markdown",
   "id": "6feaa815-5fe7-4937-82ad-4d3f5e4185be",
   "metadata": {},
   "source": [
    "---\n",
    "## 3.3 Plot land/sea mask"
   ]
  },
  {
   "cell_type": "markdown",
   "id": "da2dbd77-9454-4ac6-909f-020735d8afba",
   "metadata": {},
   "source": [
    "* Land sea mask:"
   ]
  },
  {
   "cell_type": "code",
   "execution_count": null,
   "id": "f6a753e6-83b1-47f0-aab7-f390b13943e0",
   "metadata": {
    "tags": []
   },
   "outputs": [],
   "source": [
    "fig,(ax) = plt.subplots(1, 1, figsize=[9, 6],facecolor='w')\n",
    "p = ax.pcolormesh(datinit.mask,cmap='seismic_r')\n",
    "plt.colorbar(p,label='LAND/SEA MASK')\n",
    "plt.show\n",
    "plt.close"
   ]
  },
  {
   "cell_type": "markdown",
   "id": "3bf15f91-f6af-417b-9ec3-440e006c9307",
   "metadata": {},
   "source": [
    "---\n",
    "## 3.4 Load and plot the  model outputs files \n"
   ]
  },
  {
   "cell_type": "code",
   "execution_count": null,
   "id": "f9fdc171-39c4-4768-802b-8e37f9f929ec",
   "metadata": {
    "tags": []
   },
   "outputs": [],
   "source": [
    "outputs= xr.open_dataset(dirwo+'/output_simudyn_5d.nc',group='data')\n",
    "outputs"
   ]
  },
  {
   "cell_type": "markdown",
   "id": "f05e9673-aa52-4caa-8229-ae5ef2541f60",
   "metadata": {},
   "source": []
  },
  {
   "cell_type": "markdown",
   "id": "015f44ed-2584-4de4-bedb-8c8be3492fbe",
   "metadata": {},
   "source": [
    "### 3.4.aAnimate the evolution of the simulated sea ice thickness "
   ]
  },
  {
   "cell_type": "code",
   "execution_count": null,
   "id": "28c108d8-90bc-4211-89c0-ec1cfda31512",
   "metadata": {
    "tags": []
   },
   "outputs": [],
   "source": [
    "# Number of timesteps in the output file\n",
    "NTIME = outputs.time.size\n",
    "\n",
    "# select colormap and set gray color for missing values (i.e. for land)\n",
    "cmap = cm.inferno\n",
    "cmap.set_bad('gray',1.)\n",
    "\n",
    "# select sea ice height\n",
    "data2plt = outputs.hice\n",
    "# mask  land so that it appears gray\n",
    "data2plt_masked = data2plt.where(datinit.mask!=0)\n",
    "\n",
    "\n",
    "fig,(ax) = plt.subplots(1, 1, figsize=[9, 6],facecolor='w')\n",
    "\n",
    "#plot\n",
    "it=0\n",
    "p = ax.pcolormesh(data2plt_masked.isel(time=it),vmin=0,vmax=3,cmap=cmap)\n",
    "\n",
    "# add date\n",
    "da = printdate(unixt=float(data2plt_masked.time[it].values))\n",
    "d = ax.annotate(da, xy=(4, 113),  fontsize=12, color=\"w\")\n",
    "\n",
    "# add colorbar\n",
    "plt.colorbar(p,label='sea ice height (m)',extend='both')\n",
    "\n",
    "\n",
    "def animate(it):\n",
    "    p.set_array(data2plt_masked.isel(time=it))\n",
    "    da = printdate(unixt=float(data2plt_masked.time[it].values))\n",
    "    d = ax.annotate(da, xy=(4, 113),  fontsize=12, color=\"w\",backgroundcolor='gray')\n",
    "    return p,\n",
    "\n",
    "def init():\n",
    "    p.set_array(data2plt_masked.isel(time=0))\n",
    "    return p,\n",
    "\n",
    "ani = animation.FuncAnimation(fig=fig,\n",
    "                              func=animate,\n",
    "                              init_func=init,\n",
    "                              frames=NTIME,\n",
    "                              interval=100,\n",
    "                              blit=True)\n",
    "\n",
    "HTML(ani.to_jshtml())"
   ]
  },
  {
   "cell_type": "markdown",
   "id": "e29a35a4-c366-423c-9ad8-494edb4faeb3",
   "metadata": {},
   "source": [
    "### 3.4.b Animate the evolution of the simulated sea ice concentration "
   ]
  },
  {
   "cell_type": "code",
   "execution_count": null,
   "id": "9318f029-8869-4897-b6fa-ccbf33da3498",
   "metadata": {
    "tags": []
   },
   "outputs": [],
   "source": [
    "# Number of timesteps in the output file\n",
    "NTIME = outputs.time.size\n",
    "\n",
    "\n",
    "# select colormap and set gray color for missing values (i.e. for land)\n",
    "cmap = cm.bone\n",
    "cmap.set_bad('gray',1.)\n",
    "norm = mcolors.PowerNorm(gamma=4.5,vmin=0, vmax=1)\n",
    "\n",
    "\n",
    "# select sea ice concentration\n",
    "data2plt = outputs.cice\n",
    "\n",
    "# mask  land so that it appears gray\n",
    "data2plt_masked = data2plt.where(datinit.mask!=0)\n",
    "\n",
    "# create first figure\n",
    "fig,(ax) = plt.subplots(1, 1, figsize=[7.5, 6],facecolor='w')\n",
    "\n",
    "it=0\n",
    "\n",
    "# plot sea ice field\n",
    "p = ax.pcolormesh(data2plt_masked.isel(time=it),cmap=cmap,norm=norm)\n",
    "\n",
    "# date label on top of plot\n",
    "da = printdate(unixt=float(data2plt_masked.time[it].values))\n",
    "d = ax.annotate(da, xy=(4, 113),  fontsize=12, color=\"w\")\n",
    "\n",
    "# colorbar\n",
    "cblev=[0,0.7,0.8,0.85,0.9,0.95,0.99]\n",
    "axins1 = inset_axes(ax,\n",
    "                        height=\"10%\",  # height : 5%\n",
    "                        width=\"50%\",\n",
    "                        bbox_to_anchor=(0.08, 0.92,0.9,0.2),\n",
    "                        bbox_transform=ax.transAxes,\n",
    "                        borderpad=0)\n",
    "\n",
    "cb = fig.colorbar(cm.ScalarMappable(norm=norm, cmap=cmap),\n",
    "             cax=axins1, orientation='horizontal',ticks=cblev,label='sea ice concentration')\n",
    "\n",
    "\n",
    "\n",
    "\n",
    "def animate(it):\n",
    "    p.set_array(data2plt_masked.isel(time=it))\n",
    "    da = printdate(unixt=float(data2plt_masked.time[it].values))\n",
    "    d = ax.annotate(da, xy=(4, 113),  fontsize=12, color=\"w\",backgroundcolor='gray')\n",
    "    return p,\n",
    "\n",
    "def init():\n",
    "    p.set_array(data2plt_masked.isel(time=0))\n",
    "    return p,\n",
    "\n",
    "ani = animation.FuncAnimation(fig=fig,\n",
    "                              func=animate,\n",
    "                              init_func=init,\n",
    "                              frames=NTIME,\n",
    "                              interval=100,\n",
    "                              blit=True)\n",
    "\n",
    "HTML(ani.to_jshtml())"
   ]
  },
  {
   "cell_type": "markdown",
   "id": "384b9bfc",
   "metadata": {},
   "source": [
    "---\n",
    "## 3.5 What's next ?"
   ]
  },
  {
   "cell_type": "markdown",
   "id": "bac18101",
   "metadata": {},
   "source": [
    "--> If you want to see what the simulation looks like when run for a longer time than 5 days, you can have a look at the 2-month simulation we stored on the SASIP storage (accessible here through `/data/`):"
   ]
  },
  {
   "cell_type": "markdown",
   "id": "91da4edc-4cb5-4b54-a200-b4fe046c877a",
   "metadata": {},
   "source": [
    "In Cell 14 above, you can replace:\n",
    "\n",
    "```xr.open_dataset(dirwo+'/output_simudyn_5d.nc',group='data')``` \n",
    "\n",
    "by :\n",
    "\n",
    "```xr.open_dataset('/data/model-outputs/NeXtSIM-DG/demo-testcases/output_simudyn_2mo.nc',group='data')```\n",
    "\n",
    "and re-run the plot cells."
   ]
  }
 ],
 "metadata": {
  "kernelspec": {
   "display_name": "Python 3 (ipykernel)",
   "language": "python",
   "name": "python3"
  },
  "language_info": {
   "codemirror_mode": {
    "name": "ipython",
    "version": 3
   },
   "file_extension": ".py",
   "mimetype": "text/x-python",
   "name": "python",
   "nbconvert_exporter": "python",
   "pygments_lexer": "ipython3",
   "version": "3.11.3"
  }
 },
 "nbformat": 4,
 "nbformat_minor": 5
}
