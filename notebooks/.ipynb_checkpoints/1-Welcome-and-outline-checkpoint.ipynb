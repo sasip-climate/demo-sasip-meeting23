{
 "cells": [
  {
   "cell_type": "markdown",
   "id": "39577038-2f53-4a2b-b67f-5ad058f3ce7f",
   "metadata": {},
   "source": [
    "# Welcome to the SASIP demo cloud session ! \n",
    "\n",
    "---\n",
    "### Today's outline:\n",
    "\n",
    "* 1. You can fist browse [this page]() to get familiar with jupyter notebooks and see how to access the SASIP data storage and open netcdf files with the python package xarray.\n",
    "\n",
    "* 2. Then you can open [this notebook]() that will lead you to prepare and produce your first NeXtSIM-DG simulation.\n",
    "\n",
    "* 3. You will then be able to use [this page] to see how to visualize the model outputs you have just produced.\n",
    "\n",
    "---\n",
    "\n",
    "## Important notes:\n",
    "\n",
    "* Beware that you will not be able to SAVE your own notebooks today once you have closed your cloud session. If you want to save your work you need to synchronize it with a  repository in your github. Tuto here (_not for github beginers though_).\n",
    "\n",
    "* This cloud is set up permanently, not just for today. So you will be able to access it again and play again with the NeXtSIM-DG test cases later on.  We will try to update with more test-cases when the code is developed further.\n",
    "\n",
    "* __Feel free to ask us if you need help!__\n",
    "\n",
    "---"
   ]
  },
  {
   "cell_type": "code",
   "execution_count": null,
   "id": "3c1b585f-fc24-4bf1-bb86-3831322fbd98",
   "metadata": {},
   "outputs": [],
   "source": []
  }
 ],
 "metadata": {
  "kernelspec": {
   "display_name": "Python 3 (ipykernel)",
   "language": "python",
   "name": "python3"
  },
  "language_info": {
   "codemirror_mode": {
    "name": "ipython",
    "version": 3
   },
   "file_extension": ".py",
   "mimetype": "text/x-python",
   "name": "python",
   "nbconvert_exporter": "python",
   "pygments_lexer": "ipython3",
   "version": "3.11.3"
  }
 },
 "nbformat": 4,
 "nbformat_minor": 5
}
