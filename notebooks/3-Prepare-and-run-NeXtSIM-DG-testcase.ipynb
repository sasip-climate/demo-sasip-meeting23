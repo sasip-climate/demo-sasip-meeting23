{
 "cells": [
  {
   "cell_type": "markdown",
   "id": "4e4e47df-d70b-4c6d-aa00-b2b1a1c854c4",
   "metadata": {},
   "source": [
    "## Let's prepare and run a (pre-compiled) test-case with NeXtSIM-DG"
   ]
  },
  {
   "cell_type": "markdown",
   "id": "623d997c-d8db-4858-8378-f65504cf80c1",
   "metadata": {},
   "source": [
    "_to be continued_"
   ]
  },
  {
   "cell_type": "markdown",
   "id": "1299ab20-92a2-4f55-b2cd-e422a0c08a4b",
   "metadata": {},
   "source": []
  },
  {
   "cell_type": "code",
   "execution_count": null,
   "id": "dccc8c07-30cc-4af2-b9af-468aef122e84",
   "metadata": {},
   "outputs": [],
   "source": []
  }
 ],
 "metadata": {
  "kernelspec": {
   "display_name": "Python 3 (ipykernel)",
   "language": "python",
   "name": "python3"
  },
  "language_info": {
   "codemirror_mode": {
    "name": "ipython",
    "version": 3
   },
   "file_extension": ".py",
   "mimetype": "text/x-python",
   "name": "python",
   "nbconvert_exporter": "python",
   "pygments_lexer": "ipython3",
   "version": "3.11.3"
  }
 },
 "nbformat": 4,
 "nbformat_minor": 5
}
